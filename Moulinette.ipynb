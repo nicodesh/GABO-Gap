{
 "cells": [
  {
   "cell_type": "code",
   "execution_count": 1,
   "metadata": {},
   "outputs": [],
   "source": [
    "# Libraries import\n",
    "\n",
    "import pandas as pd\n",
    "import numpy as np\n",
    "import re\n",
    "import pickle"
   ]
  },
  {
   "cell_type": "code",
   "execution_count": 2,
   "metadata": {},
   "outputs": [],
   "source": [
    "# Logs file\n",
    "\n",
    "# Settings\n",
    "log_columns = [\"Time\", \"IP\", \"Browser\", \"GA Value\", \"User ID\", \"Transaction ID\"]\n",
    "\n",
    "# Reading the CSV file / constructing the Data Frame\n",
    "logs = pd.read_csv('dataset3/log.tsv', sep=\"\\t\", header=None)\n",
    "logs.columns = log_columns\n",
    "logs[\"Logs\"] = True\n",
    "\n",
    "\n",
    "\n",
    "# Specific processing for a client\n",
    "\n",
    "logs[\"Transaction ID\"] = [x[:6] for x in logs[\"Transaction ID\"]]\n",
    "logs[\"Transaction ID\"] = logs[\"Transaction ID\"].astype(int)\n",
    "logs = logs.drop_duplicates(subset=\"Transaction ID\")\n",
    "logs = logs.reset_index(drop=True)"
   ]
  },
  {
   "cell_type": "code",
   "execution_count": 3,
   "metadata": {},
   "outputs": [
    {
     "data": {
      "text/plain": [
       "<matplotlib.axes._subplots.AxesSubplot at 0x105f5b3c8>"
      ]
     },
     "execution_count": 3,
     "metadata": {},
     "output_type": "execute_result"
    }
   ],
   "source": [
    "import matplotlib.pyplot as plt\n",
    "import matplotlib.dates as mdates\n",
    "from datetime import datetime\n",
    "\n",
    "dates = pd.to_datetime(logs['Time'])\n",
    "mydf = pd.DataFrame(logs['Logs'])\n",
    "mydf = mydf.set_index(dates)\n",
    "\n",
    "ddf = mydf.resample('D').sum()\n",
    "ax = ddf.plot(figsize=(18,5), kind='bar', title='Transactions par jour', rot=45)\n",
    "ax.set(xlabel=\"Jour\")\n",
    "ax.xaxis.set_ticklabels([x.strftime('%d/%m/%Y') for x in ddf.index])\n",
    "\n",
    "hdf = mydf.groupby(mydf.index.hour).sum()\n",
    "\n",
    "hdf.plot(figsize=(18,5), kind='bar', title='Transactions par heure', rot=0)"
   ]
  },
  {
   "cell_type": "code",
   "execution_count": 4,
   "metadata": {},
   "outputs": [],
   "source": [
    "# Back Office extract\n",
    "\n",
    "# Settings\n",
    "bo_columns = [\"Transaction ID\"]\n",
    "\n",
    "# Reading the CSV File / Constructing the Data Frame\n",
    "bo = pd.read_csv('dataset3/bo.tsv', sep=\"\\t\")\n",
    "bo.columns = bo_columns\n",
    "bo[\"BO\"] = True\n",
    "\n",
    "# Specific processinf for Paris en Scene\n",
    "\n",
    "bo[\"Transaction ID\"] = [str(x)[:6] for x in bo[\"Transaction ID\"]]\n",
    "bo[\"Transaction ID\"] = bo[\"Transaction ID\"].astype(int)\n",
    "bo = bo.drop_duplicates(subset=\"Transaction ID\")\n",
    "bo = bo.reset_index(drop=True)"
   ]
  },
  {
   "cell_type": "code",
   "execution_count": 5,
   "metadata": {},
   "outputs": [],
   "source": [
    "# Google Analytics Extract\n",
    "\n",
    "# Settings\n",
    "ga_columns = [\"Transaction ID\"]\n",
    "\n",
    "# Reading the CSV File / Constructing the Data Frame\n",
    "ga = pd.read_csv('dataset3/ga.tsv', sep=\"\\t\")\n",
    "ga.columns = ga_columns\n",
    "ga[\"GA\"] = True\n",
    "\n",
    "# Specific processinf for Paris en Scene\n",
    "\n",
    "ga[\"Transaction ID\"] = [x[:6] for x in ga[\"Transaction ID\"]]\n",
    "ga[\"Transaction ID\"] = ga[\"Transaction ID\"].astype(int)\n",
    "ga = ga.drop_duplicates(subset=\"Transaction ID\")\n",
    "ga = ga.reset_index(drop=True)"
   ]
  },
  {
   "cell_type": "code",
   "execution_count": 6,
   "metadata": {},
   "outputs": [],
   "source": [
    "# Merging the three sources : Logs / GA / BO\n",
    "def isCookie(cookie):\n",
    "    \"\"\" Check if the value is a GA Cookie \"\"\"\n",
    "    my_regex = re.compile(r\"^GA1\")\n",
    "    \n",
    "    if (type(cookie) != str):\n",
    "        return False\n",
    "    \n",
    "    elif (my_regex.search(cookie) is None):\n",
    "        return False\n",
    "\n",
    "    else:\n",
    "        return True\n",
    "\n",
    "# Merging\n",
    "merged_df = logs.merge(bo, how='outer', on=\"Transaction ID\").fillna(False)\n",
    "merged_df = merged_df.merge(ga, how='outer', on=\"Transaction ID\").fillna(False)\n",
    "\n",
    "# Addding the Cookie Value Check\n",
    "merged_df[\"Cookie\"] = [isCookie(x) for x in merged_df[\"GA Value\"]]"
   ]
  },
  {
   "cell_type": "code",
   "execution_count": 7,
   "metadata": {},
   "outputs": [],
   "source": [
    "# Generating the Results CSV File\n",
    "\n",
    "merged_df.to_csv(\"results.csv\", sep=',', encoding=\"utf-8\")"
   ]
  },
  {
   "cell_type": "code",
   "execution_count": 8,
   "metadata": {},
   "outputs": [],
   "source": [
    "# Preparing the results variables\n",
    "\n",
    "just_logs = len(merged_df[merged_df[\"Logs\"] == True].index)\n",
    "just_bo = len(merged_df[merged_df[\"BO\"] == True].index)\n",
    "just_ga = len(merged_df[merged_df[\"GA\"] == True].index)\n",
    "just_cookie = len(merged_df[merged_df[\"Cookie\"] == True].index)\n",
    "\n",
    "bo_and_ga = len(merged_df[(merged_df[\"BO\"] == True) & (merged_df[\"GA\"] == True)].index)\n",
    "bo_without_ga = len(merged_df[(merged_df[\"BO\"] == True) & (merged_df[\"GA\"] == False)].index)\n",
    "bo_without_ga_with_cookie = len(merged_df[(merged_df[\"BO\"] == True) & (merged_df[\"GA\"] == False)  & (merged_df[\"Cookie\"] == True)].index)\n",
    "bo_without_ga_without_cookie = len(merged_df[(merged_df[\"BO\"] == True) & (merged_df[\"GA\"] == False)  & (merged_df[\"Cookie\"] == False)].index)\n",
    "bo_and_logs = len(merged_df[(merged_df[\"BO\"] == True) & (merged_df[\"Logs\"] == True)].index)\n",
    "bo_without_logs = len(merged_df[(merged_df[\"BO\"] == True) & (merged_df[\"Logs\"] == False)].index)\n",
    "\n",
    "bo_and_logs_and_cookie = len(merged_df[(merged_df[\"BO\"] == True) & (merged_df[\"Logs\"] == True) & (merged_df[\"Cookie\"] == True)].index)\n",
    "bo_and_logs_and_cookie_and_ga = len(merged_df[(merged_df[\"BO\"] == True) & (merged_df[\"Logs\"] == True) & (merged_df[\"Cookie\"] == True) & (merged_df[\"GA\"] == True)].index)\n",
    "bo_and_logs_and_cookie_without_ga = len(merged_df[(merged_df[\"BO\"] == True) & (merged_df[\"Logs\"] == True) & (merged_df[\"Cookie\"] == True) & (merged_df[\"GA\"] == False)].index)\n",
    "logs_and_cookie = len(merged_df[(merged_df[\"Logs\"] == True) & (merged_df[\"Cookie\"] == True)].index)\n",
    "logs_without_cookie = len(merged_df[(merged_df[\"Logs\"] == True) & (merged_df[\"Cookie\"] == False)].index)"
   ]
  },
  {
   "cell_type": "code",
   "execution_count": 9,
   "metadata": {},
   "outputs": [
    {
     "name": "stdout",
     "output_type": "stream",
     "text": [
      "\n",
      "-----> Transactions en Back Office : 154 (100%)\n",
      "-----> Présent dans les logs : 122 (79.2%)\n",
      "-----> Et avec cookie : 114 (93.4%)\n",
      "-----> Et dans GA : 105 (92.1%)\n",
      "-----> Non dans GA : 9 (7.9%)\n",
      "\n",
      "-----> Absent dans les logs : 32 (20%)\n",
      "\n",
      "-----> Avec cookie : 9 (7%)\n",
      "-----> Sans cookie : 38 (24%)\n",
      "\n"
     ]
    }
   ],
   "source": [
    "# Synthesis\n",
    "\n",
    "print(\"\")\n",
    "print(\"-----> Transactions en Back Office : {} ({}%)\".format(just_bo, int(just_bo/just_bo*100)))\n",
    "print(\"-----> Présent dans les logs : {} ({}%)\".format(bo_and_logs, round(bo_and_logs/just_bo*100, 1)))\n",
    "print(\"-----> Et avec cookie : {} ({}%)\".format(bo_and_logs_and_cookie, round(bo_and_logs_and_cookie/bo_and_logs*100, 1)))\n",
    "print(\"-----> Et dans GA : {} ({}%)\".format(bo_and_logs_and_cookie_and_ga, round(bo_and_logs_and_cookie_and_ga/bo_and_logs_and_cookie*100, 1)))\n",
    "print(\"-----> Non dans GA : {} ({}%)\".format(bo_and_logs_and_cookie_without_ga, round(bo_and_logs_and_cookie_without_ga/bo_and_logs_and_cookie*100, 1)))\n",
    "print(\"\")\n",
    "print(\"-----> Absent dans les logs : {} ({}%)\".format(bo_without_logs, int(bo_without_logs/just_bo*100)))\n",
    "print(\"\")\n",
    "print(\"-----> Avec cookie : {} ({}%)\".format(bo_without_ga_with_cookie, int(bo_without_ga_with_cookie/just_cookie*100)))\n",
    "print(\"-----> Sans cookie : {} ({}%)\".format(bo_without_ga_without_cookie, int(bo_without_ga_without_cookie/just_bo*100)))\n",
    "print(\"\")"
   ]
  },
  {
   "cell_type": "code",
   "execution_count": null,
   "metadata": {},
   "outputs": [],
   "source": []
  }
 ],
 "metadata": {
  "kernelspec": {
   "display_name": "Python 3",
   "language": "python",
   "name": "python3"
  },
  "language_info": {
   "codemirror_mode": {
    "name": "ipython",
    "version": 3
   },
   "file_extension": ".py",
   "mimetype": "text/x-python",
   "name": "python",
   "nbconvert_exporter": "python",
   "pygments_lexer": "ipython3",
   "version": "3.6.5"
  }
 },
 "nbformat": 4,
 "nbformat_minor": 2
}
